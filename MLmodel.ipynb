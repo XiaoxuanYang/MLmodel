{
 "cells": [
  {
   "cell_type": "code",
   "execution_count": 19,
   "metadata": {},
   "outputs": [],
   "source": [
    "import pandas as pd\n",
    "import numpy as np\n",
    "from pyti.accumulation_distribution import accumulation_distribution as ad\n",
    "from pyti.aroon import aroon_up\n",
    "from pyti.aroon import aroon_down\n",
    "from pyti.average_true_range import average_true_range as atr\n",
    "from pyti.chande_momentum_oscillator import chande_momentum_oscillator as cmo"
   ]
  },
  {
   "cell_type": "markdown",
   "metadata": {},
   "source": [
    "## Data Preparation"
   ]
  },
  {
   "cell_type": "code",
   "execution_count": 4,
   "metadata": {},
   "outputs": [],
   "source": [
    "df = pd.read_csv('MLmodel.csv')"
   ]
  },
  {
   "cell_type": "code",
   "execution_count": 6,
   "metadata": {},
   "outputs": [
    {
     "data": {
      "text/html": [
       "<div>\n",
       "<style scoped>\n",
       "    .dataframe tbody tr th:only-of-type {\n",
       "        vertical-align: middle;\n",
       "    }\n",
       "\n",
       "    .dataframe tbody tr th {\n",
       "        vertical-align: top;\n",
       "    }\n",
       "\n",
       "    .dataframe thead th {\n",
       "        text-align: right;\n",
       "    }\n",
       "</style>\n",
       "<table border=\"1\" class=\"dataframe\">\n",
       "  <thead>\n",
       "    <tr style=\"text-align: right;\">\n",
       "      <th></th>\n",
       "      <th>date</th>\n",
       "      <th>bidopen</th>\n",
       "      <th>bidclose</th>\n",
       "      <th>bidhigh</th>\n",
       "      <th>bidlow</th>\n",
       "      <th>askopen</th>\n",
       "      <th>askclose</th>\n",
       "      <th>askhigh</th>\n",
       "      <th>asklow</th>\n",
       "      <th>tickqty</th>\n",
       "      <th>accum_dist</th>\n",
       "    </tr>\n",
       "  </thead>\n",
       "  <tbody>\n",
       "    <tr>\n",
       "      <th>0</th>\n",
       "      <td>2014-01-02 22:00:00</td>\n",
       "      <td>174.400</td>\n",
       "      <td>172.347</td>\n",
       "      <td>174.836</td>\n",
       "      <td>171.825</td>\n",
       "      <td>174.435</td>\n",
       "      <td>172.503</td>\n",
       "      <td>174.862</td>\n",
       "      <td>171.857</td>\n",
       "      <td>215078</td>\n",
       "      <td>0.000000</td>\n",
       "    </tr>\n",
       "    <tr>\n",
       "      <th>1</th>\n",
       "      <td>2014-01-03 22:00:00</td>\n",
       "      <td>172.347</td>\n",
       "      <td>172.071</td>\n",
       "      <td>172.498</td>\n",
       "      <td>171.036</td>\n",
       "      <td>172.503</td>\n",
       "      <td>172.198</td>\n",
       "      <td>172.526</td>\n",
       "      <td>171.075</td>\n",
       "      <td>198734</td>\n",
       "      <td>108885.961406</td>\n",
       "    </tr>\n",
       "    <tr>\n",
       "      <th>2</th>\n",
       "      <td>2014-01-05 22:00:00</td>\n",
       "      <td>172.071</td>\n",
       "      <td>171.824</td>\n",
       "      <td>172.086</td>\n",
       "      <td>171.774</td>\n",
       "      <td>172.198</td>\n",
       "      <td>171.916</td>\n",
       "      <td>172.224</td>\n",
       "      <td>171.876</td>\n",
       "      <td>1311</td>\n",
       "      <td>107876.340716</td>\n",
       "    </tr>\n",
       "    <tr>\n",
       "      <th>3</th>\n",
       "      <td>2014-01-06 22:00:00</td>\n",
       "      <td>171.824</td>\n",
       "      <td>170.962</td>\n",
       "      <td>172.228</td>\n",
       "      <td>170.399</td>\n",
       "      <td>171.916</td>\n",
       "      <td>171.000</td>\n",
       "      <td>172.250</td>\n",
       "      <td>170.427</td>\n",
       "      <td>234773</td>\n",
       "      <td>20689.658873</td>\n",
       "    </tr>\n",
       "    <tr>\n",
       "      <th>4</th>\n",
       "      <td>2014-01-07 22:00:00</td>\n",
       "      <td>170.962</td>\n",
       "      <td>171.524</td>\n",
       "      <td>171.697</td>\n",
       "      <td>170.825</td>\n",
       "      <td>171.000</td>\n",
       "      <td>171.579</td>\n",
       "      <td>171.722</td>\n",
       "      <td>170.849</td>\n",
       "      <td>215445</td>\n",
       "      <td>165553.593581</td>\n",
       "    </tr>\n",
       "  </tbody>\n",
       "</table>\n",
       "</div>"
      ],
      "text/plain": [
       "                  date  bidopen  bidclose  bidhigh   bidlow  askopen  \\\n",
       "0  2014-01-02 22:00:00  174.400   172.347  174.836  171.825  174.435   \n",
       "1  2014-01-03 22:00:00  172.347   172.071  172.498  171.036  172.503   \n",
       "2  2014-01-05 22:00:00  172.071   171.824  172.086  171.774  172.198   \n",
       "3  2014-01-06 22:00:00  171.824   170.962  172.228  170.399  171.916   \n",
       "4  2014-01-07 22:00:00  170.962   171.524  171.697  170.825  171.000   \n",
       "\n",
       "   askclose  askhigh   asklow  tickqty     accum_dist  \n",
       "0   172.503  174.862  171.857   215078       0.000000  \n",
       "1   172.198  172.526  171.075   198734  108885.961406  \n",
       "2   171.916  172.224  171.876     1311  107876.340716  \n",
       "3   171.000  172.250  170.427   234773   20689.658873  \n",
       "4   171.579  171.722  170.849   215445  165553.593581  "
      ]
     },
     "execution_count": 6,
     "metadata": {},
     "output_type": "execute_result"
    }
   ],
   "source": [
    "df.head()"
   ]
  },
  {
   "cell_type": "code",
   "execution_count": 4,
   "metadata": {},
   "outputs": [
    {
     "data": {
      "text/html": [
       "<div>\n",
       "<style scoped>\n",
       "    .dataframe tbody tr th:only-of-type {\n",
       "        vertical-align: middle;\n",
       "    }\n",
       "\n",
       "    .dataframe tbody tr th {\n",
       "        vertical-align: top;\n",
       "    }\n",
       "\n",
       "    .dataframe thead th {\n",
       "        text-align: right;\n",
       "    }\n",
       "</style>\n",
       "<table border=\"1\" class=\"dataframe\">\n",
       "  <thead>\n",
       "    <tr style=\"text-align: right;\">\n",
       "      <th></th>\n",
       "      <th>date</th>\n",
       "      <th>bidopen</th>\n",
       "      <th>bidclose</th>\n",
       "      <th>bidhigh</th>\n",
       "      <th>bidlow</th>\n",
       "      <th>askopen</th>\n",
       "      <th>askclose</th>\n",
       "      <th>askhigh</th>\n",
       "      <th>asklow</th>\n",
       "      <th>tickqty</th>\n",
       "    </tr>\n",
       "  </thead>\n",
       "  <tbody>\n",
       "    <tr>\n",
       "      <th>1307</th>\n",
       "      <td>2018-06-01 21:00:00</td>\n",
       "      <td>144.635</td>\n",
       "      <td>146.092</td>\n",
       "      <td>146.296</td>\n",
       "      <td>144.481</td>\n",
       "      <td>144.759</td>\n",
       "      <td>146.223</td>\n",
       "      <td>146.320</td>\n",
       "      <td>144.500</td>\n",
       "      <td>292351</td>\n",
       "    </tr>\n",
       "    <tr>\n",
       "      <th>1308</th>\n",
       "      <td>2018-06-19 21:00:00</td>\n",
       "      <td>146.408</td>\n",
       "      <td>144.945</td>\n",
       "      <td>146.463</td>\n",
       "      <td>144.379</td>\n",
       "      <td>146.453</td>\n",
       "      <td>145.023</td>\n",
       "      <td>146.505</td>\n",
       "      <td>144.399</td>\n",
       "      <td>327701</td>\n",
       "    </tr>\n",
       "    <tr>\n",
       "      <th>1309</th>\n",
       "      <td>2018-06-27 21:00:00</td>\n",
       "      <td>145.451</td>\n",
       "      <td>144.545</td>\n",
       "      <td>145.654</td>\n",
       "      <td>144.518</td>\n",
       "      <td>145.614</td>\n",
       "      <td>144.632</td>\n",
       "      <td>145.678</td>\n",
       "      <td>144.532</td>\n",
       "      <td>376955</td>\n",
       "    </tr>\n",
       "    <tr>\n",
       "      <th>1310</th>\n",
       "      <td>2018-06-28 21:00:00</td>\n",
       "      <td>144.545</td>\n",
       "      <td>144.475</td>\n",
       "      <td>144.677</td>\n",
       "      <td>143.762</td>\n",
       "      <td>144.632</td>\n",
       "      <td>144.534</td>\n",
       "      <td>144.719</td>\n",
       "      <td>143.782</td>\n",
       "      <td>733404</td>\n",
       "    </tr>\n",
       "    <tr>\n",
       "      <th>1311</th>\n",
       "      <td>2018-07-01 21:00:00</td>\n",
       "      <td>145.818</td>\n",
       "      <td>145.760</td>\n",
       "      <td>145.962</td>\n",
       "      <td>145.465</td>\n",
       "      <td>145.975</td>\n",
       "      <td>145.893</td>\n",
       "      <td>146.020</td>\n",
       "      <td>145.550</td>\n",
       "      <td>895</td>\n",
       "    </tr>\n",
       "  </tbody>\n",
       "</table>\n",
       "</div>"
      ],
      "text/plain": [
       "                     date  bidopen  bidclose  bidhigh   bidlow  askopen  \\\n",
       "1307  2018-06-01 21:00:00  144.635   146.092  146.296  144.481  144.759   \n",
       "1308  2018-06-19 21:00:00  146.408   144.945  146.463  144.379  146.453   \n",
       "1309  2018-06-27 21:00:00  145.451   144.545  145.654  144.518  145.614   \n",
       "1310  2018-06-28 21:00:00  144.545   144.475  144.677  143.762  144.632   \n",
       "1311  2018-07-01 21:00:00  145.818   145.760  145.962  145.465  145.975   \n",
       "\n",
       "      askclose  askhigh   asklow  tickqty  \n",
       "1307   146.223  146.320  144.500   292351  \n",
       "1308   145.023  146.505  144.399   327701  \n",
       "1309   144.632  145.678  144.532   376955  \n",
       "1310   144.534  144.719  143.782   733404  \n",
       "1311   145.893  146.020  145.550      895  "
      ]
     },
     "execution_count": 4,
     "metadata": {},
     "output_type": "execute_result"
    }
   ],
   "source": [
    "df.tail()"
   ]
  },
  {
   "cell_type": "code",
   "execution_count": null,
   "metadata": {},
   "outputs": [],
   "source": [
    "#add feature columns here to get a new df, then split data into training and testing "
   ]
  },
  {
   "cell_type": "code",
   "execution_count": 6,
   "metadata": {},
   "outputs": [],
   "source": [
    "#train = df[(pd.to_datetime(df.date) < pd.to_datetime('2017-07-01')) & (pd.to_datetime(df.date) >= pd.to_datetime('2014-01-01'))]\n",
    "\n",
    "#test = df[pd.to_datetime(df.date) >= pd.to_datetime('2017-07-01')]"
   ]
  },
  {
   "cell_type": "markdown",
   "metadata": {},
   "source": [
    "## Indicators"
   ]
  },
  {
   "cell_type": "code",
   "execution_count": 5,
   "metadata": {},
   "outputs": [],
   "source": [
    "# Accumulation distribution\n",
    "df['accum_dist'] = ad(df['askclose'], df['askhigh'], df['asklow'], df['tickqty'])"
   ]
  },
  {
   "cell_type": "code",
   "execution_count": 13,
   "metadata": {},
   "outputs": [
    {
     "ename": "KeyError",
     "evalue": "0",
     "output_type": "error",
     "traceback": [
      "\u001b[1;31m---------------------------------------------------------------------------\u001b[0m",
      "\u001b[1;31mKeyError\u001b[0m                                  Traceback (most recent call last)",
      "\u001b[1;32m<ipython-input-13-85a9e6d3d2e7>\u001b[0m in \u001b[0;36m<module>\u001b[1;34m()\u001b[0m\n\u001b[0;32m      1\u001b[0m \u001b[1;31m# Aroon\u001b[0m\u001b[1;33m\u001b[0m\u001b[1;33m\u001b[0m\u001b[0m\n\u001b[1;32m----> 2\u001b[1;33m \u001b[0mdf\u001b[0m\u001b[1;33m[\u001b[0m\u001b[1;34m'aroon_up'\u001b[0m\u001b[1;33m]\u001b[0m \u001b[1;33m=\u001b[0m \u001b[0maroon_up\u001b[0m\u001b[1;33m(\u001b[0m\u001b[0mdf\u001b[0m\u001b[1;33m[\u001b[0m\u001b[1;34m'askclose'\u001b[0m\u001b[1;33m]\u001b[0m\u001b[1;33m,\u001b[0m \u001b[1;36m7\u001b[0m\u001b[1;33m)\u001b[0m\u001b[1;33m\u001b[0m\u001b[0m\n\u001b[0m\u001b[0;32m      3\u001b[0m \u001b[0mdf\u001b[0m\u001b[1;33m[\u001b[0m\u001b[1;34m'aroon_down'\u001b[0m\u001b[1;33m]\u001b[0m \u001b[1;33m=\u001b[0m \u001b[0maroon_down\u001b[0m\u001b[1;33m(\u001b[0m\u001b[0mdf\u001b[0m\u001b[1;33m[\u001b[0m\u001b[1;34m'askclose'\u001b[0m\u001b[1;33m]\u001b[0m\u001b[1;33m,\u001b[0m \u001b[1;36m7\u001b[0m\u001b[1;33m)\u001b[0m\u001b[1;33m\u001b[0m\u001b[0m\n",
      "\u001b[1;32m~\\FXCMAPI\\anaconda3\\lib\\site-packages\\pyti\\aroon.py\u001b[0m in \u001b[0;36maroon_up\u001b[1;34m(data, period)\u001b[0m\n\u001b[0;32m     18\u001b[0m     a_up = [((period -\n\u001b[0;32m     19\u001b[0m             list(reversed(data[idx+1-period:idx+1])).index(np.max(data[idx+1-period:idx+1]))) /\n\u001b[1;32m---> 20\u001b[1;33m             float(period)) * 100 for idx in range(period-1, len(data))]\n\u001b[0m\u001b[0;32m     21\u001b[0m     \u001b[0ma_up\u001b[0m \u001b[1;33m=\u001b[0m \u001b[0mfill_for_noncomputable_vals\u001b[0m\u001b[1;33m(\u001b[0m\u001b[0mdata\u001b[0m\u001b[1;33m,\u001b[0m \u001b[0ma_up\u001b[0m\u001b[1;33m)\u001b[0m\u001b[1;33m\u001b[0m\u001b[0m\n\u001b[0;32m     22\u001b[0m     \u001b[1;32mreturn\u001b[0m \u001b[0ma_up\u001b[0m\u001b[1;33m\u001b[0m\u001b[0m\n",
      "\u001b[1;32m~\\FXCMAPI\\anaconda3\\lib\\site-packages\\pyti\\aroon.py\u001b[0m in \u001b[0;36m<listcomp>\u001b[1;34m(.0)\u001b[0m\n\u001b[0;32m     18\u001b[0m     a_up = [((period -\n\u001b[0;32m     19\u001b[0m             list(reversed(data[idx+1-period:idx+1])).index(np.max(data[idx+1-period:idx+1]))) /\n\u001b[1;32m---> 20\u001b[1;33m             float(period)) * 100 for idx in range(period-1, len(data))]\n\u001b[0m\u001b[0;32m     21\u001b[0m     \u001b[0ma_up\u001b[0m \u001b[1;33m=\u001b[0m \u001b[0mfill_for_noncomputable_vals\u001b[0m\u001b[1;33m(\u001b[0m\u001b[0mdata\u001b[0m\u001b[1;33m,\u001b[0m \u001b[0ma_up\u001b[0m\u001b[1;33m)\u001b[0m\u001b[1;33m\u001b[0m\u001b[0m\n\u001b[0;32m     22\u001b[0m     \u001b[1;32mreturn\u001b[0m \u001b[0ma_up\u001b[0m\u001b[1;33m\u001b[0m\u001b[0m\n",
      "\u001b[1;32m~\\FXCMAPI\\anaconda3\\lib\\site-packages\\pandas\\core\\series.py\u001b[0m in \u001b[0;36m__getitem__\u001b[1;34m(self, key)\u001b[0m\n\u001b[0;32m    764\u001b[0m         \u001b[0mkey\u001b[0m \u001b[1;33m=\u001b[0m \u001b[0mcom\u001b[0m\u001b[1;33m.\u001b[0m\u001b[0m_apply_if_callable\u001b[0m\u001b[1;33m(\u001b[0m\u001b[0mkey\u001b[0m\u001b[1;33m,\u001b[0m \u001b[0mself\u001b[0m\u001b[1;33m)\u001b[0m\u001b[1;33m\u001b[0m\u001b[0m\n\u001b[0;32m    765\u001b[0m         \u001b[1;32mtry\u001b[0m\u001b[1;33m:\u001b[0m\u001b[1;33m\u001b[0m\u001b[0m\n\u001b[1;32m--> 766\u001b[1;33m             \u001b[0mresult\u001b[0m \u001b[1;33m=\u001b[0m \u001b[0mself\u001b[0m\u001b[1;33m.\u001b[0m\u001b[0mindex\u001b[0m\u001b[1;33m.\u001b[0m\u001b[0mget_value\u001b[0m\u001b[1;33m(\u001b[0m\u001b[0mself\u001b[0m\u001b[1;33m,\u001b[0m \u001b[0mkey\u001b[0m\u001b[1;33m)\u001b[0m\u001b[1;33m\u001b[0m\u001b[0m\n\u001b[0m\u001b[0;32m    767\u001b[0m \u001b[1;33m\u001b[0m\u001b[0m\n\u001b[0;32m    768\u001b[0m             \u001b[1;32mif\u001b[0m \u001b[1;32mnot\u001b[0m \u001b[0mis_scalar\u001b[0m\u001b[1;33m(\u001b[0m\u001b[0mresult\u001b[0m\u001b[1;33m)\u001b[0m\u001b[1;33m:\u001b[0m\u001b[1;33m\u001b[0m\u001b[0m\n",
      "\u001b[1;32m~\\FXCMAPI\\anaconda3\\lib\\site-packages\\pandas\\core\\indexes\\base.py\u001b[0m in \u001b[0;36mget_value\u001b[1;34m(self, series, key)\u001b[0m\n\u001b[0;32m   3101\u001b[0m         \u001b[1;32mtry\u001b[0m\u001b[1;33m:\u001b[0m\u001b[1;33m\u001b[0m\u001b[0m\n\u001b[0;32m   3102\u001b[0m             return self._engine.get_value(s, k,\n\u001b[1;32m-> 3103\u001b[1;33m                                           tz=getattr(series.dtype, 'tz', None))\n\u001b[0m\u001b[0;32m   3104\u001b[0m         \u001b[1;32mexcept\u001b[0m \u001b[0mKeyError\u001b[0m \u001b[1;32mas\u001b[0m \u001b[0me1\u001b[0m\u001b[1;33m:\u001b[0m\u001b[1;33m\u001b[0m\u001b[0m\n\u001b[0;32m   3105\u001b[0m             \u001b[1;32mif\u001b[0m \u001b[0mlen\u001b[0m\u001b[1;33m(\u001b[0m\u001b[0mself\u001b[0m\u001b[1;33m)\u001b[0m \u001b[1;33m>\u001b[0m \u001b[1;36m0\u001b[0m \u001b[1;32mand\u001b[0m \u001b[0mself\u001b[0m\u001b[1;33m.\u001b[0m\u001b[0minferred_type\u001b[0m \u001b[1;32min\u001b[0m \u001b[1;33m[\u001b[0m\u001b[1;34m'integer'\u001b[0m\u001b[1;33m,\u001b[0m \u001b[1;34m'boolean'\u001b[0m\u001b[1;33m]\u001b[0m\u001b[1;33m:\u001b[0m\u001b[1;33m\u001b[0m\u001b[0m\n",
      "\u001b[1;32mpandas\\_libs\\index.pyx\u001b[0m in \u001b[0;36mpandas._libs.index.IndexEngine.get_value\u001b[1;34m()\u001b[0m\n",
      "\u001b[1;32mpandas\\_libs\\index.pyx\u001b[0m in \u001b[0;36mpandas._libs.index.IndexEngine.get_value\u001b[1;34m()\u001b[0m\n",
      "\u001b[1;32mpandas\\_libs\\index.pyx\u001b[0m in \u001b[0;36mpandas._libs.index.IndexEngine.get_loc\u001b[1;34m()\u001b[0m\n",
      "\u001b[1;32mpandas\\_libs\\hashtable_class_helper.pxi\u001b[0m in \u001b[0;36mpandas._libs.hashtable.Int64HashTable.get_item\u001b[1;34m()\u001b[0m\n",
      "\u001b[1;32mpandas\\_libs\\hashtable_class_helper.pxi\u001b[0m in \u001b[0;36mpandas._libs.hashtable.Int64HashTable.get_item\u001b[1;34m()\u001b[0m\n",
      "\u001b[1;31mKeyError\u001b[0m: 0"
     ]
    }
   ],
   "source": [
    "# Aroon\n",
    "df['aroon_up'] = aroon_up(df['askclose'], 7)\n",
    "df['aroon_down'] = aroon_down(df['askclose'], 7)"
   ]
  },
  {
   "cell_type": "code",
   "execution_count": 15,
   "metadata": {},
   "outputs": [],
   "source": [
    "# Averagre true range\n",
    "df['atr'] = atr(df['askclose'], 7)"
   ]
  },
  {
   "cell_type": "code",
   "execution_count": 20,
   "metadata": {},
   "outputs": [],
   "source": [
    "# Chande momentum oscillator\n",
    "df['cmo'] = cmo(df['askclose'], 7)"
   ]
  },
  {
   "cell_type": "code",
   "execution_count": null,
   "metadata": {},
   "outputs": [],
   "source": []
  }
 ],
 "metadata": {
  "kernelspec": {
   "display_name": "Python 3",
   "language": "python",
   "name": "python3"
  },
  "language_info": {
   "codemirror_mode": {
    "name": "ipython",
    "version": 3
   },
   "file_extension": ".py",
   "mimetype": "text/x-python",
   "name": "python",
   "nbconvert_exporter": "python",
   "pygments_lexer": "ipython3",
   "version": "3.6.5"
  }
 },
 "nbformat": 4,
 "nbformat_minor": 2
}
